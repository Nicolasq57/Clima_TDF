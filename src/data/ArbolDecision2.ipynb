{
 "cells": [
  {
   "cell_type": "markdown",
   "id": "f0cc2ed9-50dd-4f63-973a-b936d1be9780",
   "metadata": {},
   "source": [
    "Predecir dias con nieve en el año proximo"
   ]
  },
  {
   "cell_type": "code",
   "execution_count": 5,
   "id": "e1e23a35-de1a-41f1-80b2-e705425665e8",
   "metadata": {},
   "outputs": [
    {
     "name": "stdout",
     "output_type": "stream",
     "text": [
      "Error cuadrático medio (MSE): 9.0\n",
      "Predicción de días con nieve para el próximo año: 18.00\n"
     ]
    }
   ],
   "source": [
    "import pandas as pd\n",
    "from sklearn.tree import DecisionTreeRegressor\n",
    "from sklearn.model_selection import train_test_split\n",
    "from sklearn.metrics import mean_squared_error\n",
    "\n",
    "# Cargar los datos\n",
    "dat_csv = pd.read_csv('Clima-rg-Año.csv', encoding=\"ISO-8859-1\", delimiter=\";\")\n",
    "\n",
    "# Asegurarte de que los datos estén ordenados por fecha\n",
    "dat_csv['año'] = dat_csv['año'].astype(int)\n",
    "dat_csv = dat_csv.sort_values(by='año')\n",
    "\n",
    "# Generar características temporales\n",
    "# Shift para crear una columna de días con nieve del año anterior\n",
    "dat_csv['Dias con Nieve (año anterior)'] = dat_csv['Dias con Nieve'].shift(12)\n",
    "\n",
    "# Eliminar filas con valores nulos generados por el shift\n",
    "dat_csv = dat_csv.dropna()\n",
    "\n",
    "# Seleccionar características y variable objetivo\n",
    "X = dat_csv[['Dias con Nieve (año anterior)']]\n",
    "y = dat_csv['Dias con Nieve']\n",
    "\n",
    "# Dividir los datos en conjunto de entrenamiento y prueba\n",
    "X_train, X_test, y_train, y_test = train_test_split(X, y, test_size=0.2, random_state=42)\n",
    "\n",
    "# Crear y entrenar el modelo de Árbol de Decisión\n",
    "tree_model = DecisionTreeRegressor(random_state=42, max_depth=5, min_samples_split=4, min_samples_leaf=2)\n",
    "tree_model.fit(X_train, y_train)\n",
    "\n",
    "# Evaluar el modelo\n",
    "y_pred = tree_model.predict(X_test)\n",
    "mse = mean_squared_error(y_test, y_pred)\n",
    "print(f\"Error cuadrático medio (MSE): {mse}\")\n",
    "\n",
    "# Preparar los datos para la predicción\n",
    "dias_nieve_anterior = dat_csv['Dias con Nieve'].iloc[-12:].mean()  # Promedio del último año\n",
    "nueva_fila = pd.DataFrame([[dias_nieve_anterior]], columns=['Dias con Nieve (año anterior)'])\n",
    "\n",
    "# Realizar la predicción\n",
    "prediccion = tree_model.predict(nueva_fila)\n",
    "print(f\"Predicción de días con nieve para el próximo año: {prediccion[0]:.2f}\")\n",
    "\n"
   ]
  }
 ],
 "metadata": {
  "kernelspec": {
   "display_name": "Python 3 (ipykernel)",
   "language": "python",
   "name": "python3"
  },
  "language_info": {
   "codemirror_mode": {
    "name": "ipython",
    "version": 3
   },
   "file_extension": ".py",
   "mimetype": "text/x-python",
   "name": "python",
   "nbconvert_exporter": "python",
   "pygments_lexer": "ipython3",
   "version": "3.11.7"
  }
 },
 "nbformat": 4,
 "nbformat_minor": 5
}
