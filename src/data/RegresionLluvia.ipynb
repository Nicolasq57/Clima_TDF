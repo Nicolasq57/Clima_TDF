{
 "cells": [
  {
   "cell_type": "code",
   "execution_count": null,
   "id": "d1926627-92dc-4509-a229-4acc856589ef",
   "metadata": {},
   "outputs": [],
   "source": [
    "ver datos"
   ]
  },
  {
   "cell_type": "code",
   "execution_count": 62,
   "id": "411c4ae5-64a6-4dcc-9e30-591735039ab3",
   "metadata": {},
   "outputs": [
    {
     "name": "stdout",
     "output_type": "stream",
     "text": [
      "Valores faltantes en 'Lluvia Caida': 0\n",
      "Valores faltantes en 'mes': 0\n",
      "Datos después de eliminar filas con NaN: (168, 7)\n",
      "Error cuadrático medio (MSE): 416.44773417708114\n",
      "Coeficiente de regresión: [-0.95789833]\n",
      "Intercepto: 32.8037552736741\n"
     ]
    }
   ],
   "source": [
    "import pandas as pd\n",
    "import numpy as np\n",
    "from sklearn.model_selection import train_test_split\n",
    "from sklearn.linear_model import LinearRegression\n",
    "from sklearn.metrics import mean_squared_error\n",
    "\n",
    "# Cargar los datos\n",
    "dat_csv = pd.read_csv('Clima-rg-Mes.csv', encoding=\"ISO-8859-1\", delimiter=\";\")\n",
    "\n",
    "# Eliminar espacios adicionales en los nombres de las columnas\n",
    "dat_csv.columns = dat_csv.columns.str.strip()\n",
    "\n",
    "# Reemplazar diferentes formatos de valores faltantes por NaN\n",
    "dat_csv.replace(['-', '', ' '], np.nan, inplace=True)\n",
    "\n",
    "# Convertir 'Lluvia Caida' a formato numérico (reemplazar comas por puntos)\n",
    "dat_csv['Lluvia Caida'] = dat_csv['Lluvia Caida'].str.replace(',', '.').astype(float)\n",
    "\n",
    "# Crear un diccionario de mapeo para los meses\n",
    "meses_map = {\n",
    "    'enero': 1, 'febrero': 2, 'marzo': 3, 'abril': 4, 'mayo': 5, 'junio': 6,\n",
    "    'julio': 7, 'agosto': 8, 'septiembre': 9, 'octubre': 10, 'noviembre': 11, 'diciembre': 12\n",
    "}\n",
    "\n",
    "# Reemplazar los nombres de los meses por sus respectivos números\n",
    "dat_csv['mes'] = dat_csv['mes'].map(meses_map)\n",
    "\n",
    "# Verificar cuántos valores faltantes hay ahora en las columnas clave\n",
    "print(f\"Valores faltantes en 'Lluvia Caida': {dat_csv['Lluvia Caida'].isnull().sum()}\")\n",
    "print(f\"Valores faltantes en 'mes': {dat_csv['mes'].isnull().sum()}\")\n",
    "\n",
    "# Eliminar filas con valores NaN en columnas relevantes\n",
    "dat_csv.dropna(subset=['Lluvia Caida', 'mes'], inplace=True)\n",
    "\n",
    "# Verificar el tamaño de los datos después de la limpieza\n",
    "print(f\"Datos después de eliminar filas con NaN: {dat_csv.shape}\")\n",
    "\n",
    "# Asegurarse de que el DataFrame no esté vacío\n",
    "if dat_csv.shape[0] == 0:\n",
    "    print(\"El conjunto de datos está vacío después de eliminar filas con valores faltantes.\")\n",
    "else:\n",
    "    # Seleccionar las variables para la regresión\n",
    "    X = dat_csv[['mes']]  # Característica: mes\n",
    "    y = dat_csv['Lluvia Caida']  # Variable objetivo: Lluvia Caida\n",
    "\n",
    "    # Dividir el dataset en entrenamiento y prueba\n",
    "    X_train, X_test, y_train, y_test = train_test_split(X, y, test_size=0.2, random_state=42)\n",
    "\n",
    "    # Crear y entrenar el modelo de regresión lineal\n",
    "    model = LinearRegression()\n",
    "    model.fit(X_train, y_train)\n",
    "\n",
    "    # Realizar predicciones\n",
    "    y_pred = model.predict(X_test)\n",
    "\n",
    "    # Evaluar el modelo usando el error cuadrático medio (MSE)\n",
    "    mse = mean_squared_error(y_test, y_pred)\n",
    "    print(f\"Error cuadrático medio (MSE): {mse}\")\n",
    "\n",
    "    # Ver los coeficientes del modelo\n",
    "    print(f\"Coeficiente de regresión: {model.coef_}\")\n",
    "    print(f\"Intercepto: {model.intercept_}\")\n"
   ]
  },
  {
   "cell_type": "code",
   "execution_count": 63,
   "id": "adddb5b4-8757-4f42-94cc-a2e4b27e1496",
   "metadata": {},
   "outputs": [
    {
     "name": "stdout",
     "output_type": "stream",
     "text": [
      "[ 1  2  3  4  5  6  7  8  9 10 11 12]\n"
     ]
    }
   ],
   "source": [
    "print(dat_csv['mes'].unique())\n"
   ]
  },
  {
   "cell_type": "code",
   "execution_count": 64,
   "id": "3ab1d1b6-f6d3-4a50-8e46-fac9c7af9c47",
   "metadata": {},
   "outputs": [
    {
     "name": "stdout",
     "output_type": "stream",
     "text": [
      "Valores nulos en 'mes': 0\n"
     ]
    }
   ],
   "source": [
    "# Verificar los valores nulos en la columna 'mes'\n",
    "nulos_mes = dat_csv['mes'].isnull().sum()\n",
    "print(f\"Valores nulos en 'mes': {nulos_mes}\")\n"
   ]
  },
  {
   "cell_type": "code",
   "execution_count": 65,
   "id": "36caba03-ef37-41f6-b6b5-00bb22c1f487",
   "metadata": {},
   "outputs": [
    {
     "name": "stdout",
     "output_type": "stream",
     "text": [
      "Valores faltantes en 'Lluvia Caida': 0\n",
      "Valores faltantes en 'mes': 0\n",
      "Datos después de eliminar filas con NaN: (168, 7)\n",
      "Error cuadrático medio (MSE): 416.44773417708114\n",
      "Coeficiente de regresión: [-0.95789833]\n",
      "Intercepto: 32.8037552736741\n"
     ]
    }
   ],
   "source": [
    "\n",
    "\n",
    "# Verificar cuántos valores faltantes hay ahora en las columnas clave\n",
    "print(f\"Valores faltantes en 'Lluvia Caida': {dat_csv['Lluvia Caida'].isnull().sum()}\")\n",
    "print(f\"Valores faltantes en 'mes': {dat_csv['mes'].isnull().sum()}\")\n",
    "\n",
    "# Eliminar filas con valores NaN en columnas relevantes\n",
    "dat_csv.dropna(subset=['Lluvia Caida', 'mes'], inplace=True)\n",
    "\n",
    "# Verificar el tamaño de los datos después de la limpieza\n",
    "print(f\"Datos después de eliminar filas con NaN: {dat_csv.shape}\")\n",
    "\n",
    "# Asegurarse de que el DataFrame no esté vacío\n",
    "if dat_csv.shape[0] == 0:\n",
    "    print(\"El conjunto de datos está vacío después de eliminar filas con valores faltantes.\")\n",
    "else:\n",
    "    # Seleccionar las variables para la regresión\n",
    "    X = dat_csv[['mes']]  # Característica: mes\n",
    "    y = dat_csv['Lluvia Caida']  # Variable objetivo: Lluvia Caida\n",
    "\n",
    "    # Dividir el dataset en entrenamiento y prueba\n",
    "    X_train, X_test, y_train, y_test = train_test_split(X, y, test_size=0.2, random_state=42)\n",
    "\n",
    "    # Crear y entrenar el modelo de regresión lineal\n",
    "    model = LinearRegression()\n",
    "    model.fit(X_train, y_train)\n",
    "\n",
    "    # Realizar predicciones\n",
    "    y_pred = model.predict(X_test)\n",
    "\n",
    "    # Evaluar el modelo usando el error cuadrático medio (MSE)\n",
    "    mse = mean_squared_error(y_test, y_pred)\n",
    "    print(f\"Error cuadrático medio (MSE): {mse}\")\n",
    "\n",
    "    # Ver los coeficientes del modelo\n",
    "    print(f\"Coeficiente de regresión: {model.coef_}\")\n",
    "    print(f\"Intercepto: {model.intercept_}\")\n"
   ]
  },
  {
   "cell_type": "code",
   "execution_count": 66,
   "id": "7951f7d7-ee93-4176-ae35-45f8db1bc9aa",
   "metadata": {},
   "outputs": [
    {
     "data": {
      "image/png": "[encoded data removed]",
      "text/plain": [
       "<Figure size 800x600 with 1 Axes>"
      ]
     },
     "metadata": {},
     "output_type": "display_data"
    }
   ],
   "source": [
    "import matplotlib.pyplot as plt\n",
    "import seaborn as sns\n",
    "\n",
    "# Graficar los datos originales\n",
    "plt.figure(figsize=(8, 6))\n",
    "sns.scatterplot(x='mes', y='Lluvia Caida', data=dat_csv, color='blue', label='Datos reales')\n",
    "\n",
    "# Graficar la línea de regresión\n",
    "plt.plot(X_test, y_pred, color='red', label='Línea de regresión', linewidth=2)\n",
    "\n",
    "# Añadir títulos y etiquetas\n",
    "plt.title('Regresión Lineal: Lluvia Caída vs Mes')\n",
    "plt.xlabel('Mes')\n",
    "plt.ylabel('Lluvia Caída (mm)')\n",
    "plt.legend()\n",
    "\n",
    "# Mostrar el gráfico\n",
    "plt.show()\n"
   ]
  },
  {
   "cell_type": "code",
   "execution_count": 67,
   "id": "9ee046ac-9312-4b3c-a770-84e972966801",
   "metadata": {},
   "outputs": [
    {
     "name": "stdout",
     "output_type": "stream",
     "text": [
      "Predicciones para los nuevos meses:\n",
      "Mes 1: 31.85 mm\n",
      "Mes 3: 29.93 mm\n",
      "Mes 5: 28.01 mm\n",
      "Mes 7: 26.10 mm\n",
      "Mes 9: 24.18 mm\n",
      "Mes 12: 21.31 mm\n"
     ]
    }
   ],
   "source": [
    "# Nuevos valores de mes (por ejemplo, para los meses 1 (enero), 3 (marzo), etc.)\n",
    "mes_nuevos = pd.DataFrame({'mes': [1, 3, 5, 7, 9, 12]}) \n",
    "\n",
    "# Usar el modelo para predecir la lluvia caída\n",
    "predicciones = model.predict(mes_nuevos)\n",
    "\n",
    "# Mostrar las predicciones\n",
    "print(\"Predicciones para los nuevos meses:\")\n",
    "for mes, lluvia in zip(mes_nuevos['mes'], predicciones):\n",
    "    print(f\"Mes {mes}: {lluvia:.2f} mm\")\n"
   ]
  }
 ],
 "metadata": {
  "kernelspec": {
   "display_name": "Python 3 (ipykernel)",
   "language": "python",
   "name": "python3"
  },
  "language_info": {
   "codemirror_mode": {
    "name": "ipython",
    "version": 3
   },
   "file_extension": ".py",
   "mimetype": "text/x-python",
   "name": "python",
   "nbconvert_exporter": "python",
   "pygments_lexer": "ipython3",
   "version": "3.11.7"
  }
 },
 "nbformat": 4,
 "nbformat_minor": 5
}
