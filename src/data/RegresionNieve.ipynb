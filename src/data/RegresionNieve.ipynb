{
 "cells": [
  {
   "cell_type": "code",
   "execution_count": 31,
   "id": "6306eb71-174a-42d9-810a-4a5f6c78514c",
   "metadata": {},
   "outputs": [
    {
     "name": "stdout",
     "output_type": "stream",
     "text": [
      "   mes\n",
      "0    1\n",
      "1    2\n",
      "2    3\n",
      "3    4\n",
      "4    5\n"
     ]
    }
   ],
   "source": [
    "import pandas as pd\n",
    "import numpy as np\n",
    "\n",
    "# Cargar los datos\n",
    "dat_csv = pd.read_csv('Clima-rg-Mes.csv', encoding=\"ISO-8859-1\", delimiter=\";\")\n",
    "\n",
    "# Crear un diccionario de mapeo para los meses\n",
    "meses_map = {\n",
    "    'enero': 1, 'febrero': 2, 'marzo': 3, 'abril': 4, 'mayo': 5, 'junio': 6,\n",
    "    'julio': 7, 'agosto': 8, 'septiembre': 9, 'octubre': 10, 'noviembre': 11, 'diciembre': 12\n",
    "}\n",
    "\n",
    "# Reemplazar los nombres de los meses por sus respectivos números\n",
    "dat_csv['mes'] = dat_csv['mes'].map(meses_map)\n",
    "\n",
    "# Verificar los primeros registros de la columna 'mes' para asegurar que la conversión fue correcta\n",
    "print(dat_csv[['mes']].head())\n",
    "\n"
   ]
  },
  {
   "cell_type": "code",
   "execution_count": 41,
   "id": "39f9099a-f141-495e-9ad7-9066bbee15c2",
   "metadata": {},
   "outputs": [
    {
     "name": "stdout",
     "output_type": "stream",
     "text": [
      "  Dias con Nieve\n",
      "0              0\n",
      "1              0\n",
      "2              0\n",
      "3              0\n",
      "4              1\n"
     ]
    }
   ],
   "source": [
    "# Reemplazar los guiones y los guiones seguidos de un espacio por ceros en la columna 'Dias con Nieve'\n",
    "dat_csv['Dias con Nieve'] = dat_csv['Dias con Nieve'].replace(['-', '- -'], 0)\n",
    "\n",
    "# Verificar los primeros registros de la columna 'Dias con Nieve'\n",
    "print(dat_csv[['Dias con Nieve']].head())\n",
    "\n"
   ]
  },
  {
   "cell_type": "code",
   "execution_count": 42,
   "id": "b1b3557e-37dd-47fa-a584-a2631902468a",
   "metadata": {},
   "outputs": [
    {
     "name": "stdout",
     "output_type": "stream",
     "text": [
      "Valores nulos en 'mes': 0\n",
      "Valores nulos en 'Dias con Nieve': 0\n"
     ]
    }
   ],
   "source": [
    "# Verificar si hay valores nulos en las columnas 'mes' y 'Dias con Nieve'\n",
    "nulos_mes = dat_csv['mes'].isnull().sum()\n",
    "nulos_dias_con_nieve = dat_csv['Dias con Nieve'].isnull().sum()\n",
    "\n",
    "# Mostrar la cantidad de valores nulos en ambas columnas\n",
    "print(f\"Valores nulos en 'mes': {nulos_mes}\")\n",
    "print(f\"Valores nulos en 'Dias con Nieve': {nulos_dias_con_nieve}\")\n"
   ]
  },
  {
   "cell_type": "code",
   "execution_count": 43,
   "id": "8a31138f-15f6-4cd4-868c-194a1e58eff7",
   "metadata": {},
   "outputs": [
    {
     "name": "stdout",
     "output_type": "stream",
     "text": [
      "Valores únicos en 'Dias con Nieve': [0 '1' '3' '6' '5' '2' '4' '7' '8' '13']\n",
      "Cantidad de guiones en 'Dias con Nieve': 0\n"
     ]
    }
   ],
   "source": [
    "# Verificar si quedan guiones o valores no numéricos en la columna 'Dias con Nieve'\n",
    "print(\"Valores únicos en 'Dias con Nieve':\", dat_csv['Dias con Nieve'].unique())\n",
    "\n",
    "# Verificar si quedan guiones específicamente\n",
    "guiones_en_dias_con_nieve = dat_csv[dat_csv['Dias con Nieve'] == '-']\n",
    "print(f\"Cantidad de guiones en 'Dias con Nieve': {guiones_en_dias_con_nieve.shape[0]}\")\n"
   ]
  },
  {
   "cell_type": "code",
   "execution_count": 46,
   "id": "50db1478-2765-45c3-8bd6-137f681d841b",
   "metadata": {},
   "outputs": [
    {
     "name": "stdout",
     "output_type": "stream",
     "text": [
      "Error cuadrático medio (MSE): 4.6951644784498745\n",
      "Coeficiente de regresión: [0.06887221]\n",
      "Intercepto: 0.7574411599530302\n"
     ]
    },
    {
     "data": {
      "image/png": "[encoded data removed]",
      "text/plain": [
       "<Figure size 640x480 with 1 Axes>"
      ]
     },
     "metadata": {},
     "output_type": "display_data"
    }
   ],
   "source": [
    "from sklearn.model_selection import train_test_split\n",
    "from sklearn.linear_model import LinearRegression\n",
    "from sklearn.metrics import mean_squared_error\n",
    "import matplotlib.pyplot as plt\n",
    "\n",
    "# Dividir los datos en variables independientes (X) y dependientes (y)\n",
    "X = dat_csv[['mes']]  # Variable independiente: mes\n",
    "y = dat_csv['Dias con Nieve']  # Variable dependiente: Dias con Nieve\n",
    "\n",
    "# Dividir el dataset en conjunto de entrenamiento y conjunto de prueba\n",
    "X_train, X_test, y_train, y_test = train_test_split(X, y, test_size=0.2, random_state=42)\n",
    "\n",
    "# Crear y entrenar el modelo de regresión lineal\n",
    "model = LinearRegression()\n",
    "model.fit(X_train, y_train)\n",
    "\n",
    "# Realizar predicciones en el conjunto de prueba\n",
    "y_pred = model.predict(X_test)\n",
    "\n",
    "# Evaluar el modelo usando el error cuadrático medio (MSE)\n",
    "mse = mean_squared_error(y_test, y_pred)\n",
    "print(f\"Error cuadrático medio (MSE): {mse}\")\n",
    "\n",
    "# Mostrar los coeficientes del modelo\n",
    "print(f\"Coeficiente de regresión: {model.coef_}\")\n",
    "print(f\"Intercepto: {model.intercept_}\")\n",
    "\n",
    "# Graficar los resultados\n",
    "plt.scatter(X_test, y_test, color='blue', label='Datos reales')\n",
    "plt.plot(X_test, y_pred, color='red', label='Predicción')\n",
    "plt.xlabel('Mes')\n",
    "plt.ylabel('Dias con Nieve')\n",
    "plt.title('Regresión Lineal: Mes vs Dias con Nieve')\n",
    "plt.legend()\n",
    "plt.show()"
   ]
  },
  {
   "cell_type": "code",
   "execution_count": 48,
   "id": "d475b128-094d-4afb-95b1-fa64aa787b2b",
   "metadata": {},
   "outputs": [
    {
     "name": "stdout",
     "output_type": "stream",
     "text": [
      "Predicción de días con nieve para el mes 5: 1.101802215755348\n"
     ]
    }
   ],
   "source": [
    "# Crear un DataFrame con el mes 5 (como fue hecho durante el entrenamiento)\n",
    "mes_5 = pd.DataFrame([[5]], columns=['mes'])  # Crear DataFrame con la columna 'mes'\n",
    "\n",
    "# Realizar la predicción con el modelo de regresión lineal\n",
    "dias_con_nieve_mes_5 = model.predict(mes_5)\n",
    "\n",
    "print(f\"Predicción de días con nieve para el mes 5: {dias_con_nieve_mes_5[0]}\")\n"
   ]
  }
 ],
 "metadata": {
  "kernelspec": {
   "display_name": "Python 3 (ipykernel)",
   "language": "python",
   "name": "python3"
  },
  "language_info": {
   "codemirror_mode": {
    "name": "ipython",
    "version": 3
   },
   "file_extension": ".py",
   "mimetype": "text/x-python",
   "name": "python",
   "nbconvert_exporter": "python",
   "pygments_lexer": "ipython3",
   "version": "3.11.7"
  }
 },
 "nbformat": 4,
 "nbformat_minor": 5
}
