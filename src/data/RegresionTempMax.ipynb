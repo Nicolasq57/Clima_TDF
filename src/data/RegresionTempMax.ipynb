{
 "cells": [
  {
   "cell_type": "code",
   "execution_count": 4,
   "id": "8a1791b7-3444-4af3-b6bf-e6167ff50f35",
   "metadata": {},
   "outputs": [
    {
     "name": "stdout",
     "output_type": "stream",
     "text": [
      "Exactitud para 'Temp Max Media Mayor': 0.6666666666666666\n",
      "Matriz de confusión para 'Temp Max Media Mayor':\n",
      "[[0 1]\n",
      " [0 2]]\n"
     ]
    }
   ],
   "source": [
    "import pandas as pd\n",
    "from sklearn.model_selection import train_test_split\n",
    "from sklearn.linear_model import LogisticRegression\n",
    "from sklearn.metrics import accuracy_score, confusion_matrix\n",
    "\n",
    "# Cargar los datos\n",
    "dat_csv = pd.read_csv('Clima-rg-Año.csv', encoding=\"ISO-8859-1\", delimiter=\";\")\n",
    "\n",
    "# Reemplazar comas por puntos en las columnas relevantes\n",
    "dat_csv['Prom Max Media'] = dat_csv['Prom Max Media'].replace({',': '.'}, regex=True)\n",
    "dat_csv['Prom Max Media'] = pd.to_numeric(dat_csv['Prom Max Media'], errors='coerce')\n",
    "\n",
    "# Crear una columna 'Temp Max Media Mayor' que compara la temperatura con el año anterior\n",
    "dat_csv['Temp Max Media Mayor'] = dat_csv['Prom Max Media'].diff().apply(lambda x: 1 if x > 0 else 0)\n",
    "\n",
    "# Filtrar para eliminar NaN (primer año no tiene comparación)\n",
    "dat_csv = dat_csv.dropna()\n",
    "\n",
    "# Seleccionar las características (X) y la variable objetivo (y)\n",
    "X = dat_csv[['año']]  # Usamos el 'Año' como característica\n",
    "y = dat_csv['Temp Max Media Mayor']  # Variable a predecir (si la temperatura aumentó)\n",
    "\n",
    "# Dividir los datos en entrenamiento y prueba (80% entrenamiento, 20% prueba)\n",
    "X_train, X_test, y_train, y_test = train_test_split(X, y, test_size=0.2, random_state=42)\n",
    "\n",
    "# Crear el modelo de Regresión Logística\n",
    "log_reg = LogisticRegression(max_iter=1000)  # Asegurar que el modelo converge\n",
    "\n",
    "# Entrenar el modelo para la variable 'Temp Max Media Mayor'\n",
    "log_reg.fit(X_train, y_train)\n",
    "\n",
    "# Hacer predicciones para 'Temp Max Media Mayor'\n",
    "y_pred_temp = log_reg.predict(X_test)\n",
    "\n",
    "# Evaluar el modelo de 'Temp Max Media Mayor'\n",
    "accuracy_temp = accuracy_score(y_test, y_pred_temp)\n",
    "print(f\"Exactitud para 'Temp Max Media Mayor': {accuracy_temp}\")\n",
    "\n",
    "# Mostrar la matriz de confusión para 'Temp Max Media Mayor'\n",
    "print(\"Matriz de confusión para 'Temp Max Media Mayor':\")\n",
    "print(confusion_matrix(y_test, y_pred_temp))\n",
    "\n"
   ]
  }
 ],
 "metadata": {
  "kernelspec": {
   "display_name": "Python 3 (ipykernel)",
   "language": "python",
   "name": "python3"
  },
  "language_info": {
   "codemirror_mode": {
    "name": "ipython",
    "version": 3
   },
   "file_extension": ".py",
   "mimetype": "text/x-python",
   "name": "python",
   "nbconvert_exporter": "python",
   "pygments_lexer": "ipython3",
   "version": "3.11.7"
  }
 },
 "nbformat": 4,
 "nbformat_minor": 5
}
