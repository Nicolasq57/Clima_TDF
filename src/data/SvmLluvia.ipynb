{
 "cells": [
  {
   "cell_type": "code",
   "execution_count": 3,
   "id": "6ddb1320-7e6a-4169-9a38-b9e8169e59d4",
   "metadata": {},
   "outputs": [
    {
     "name": "stdout",
     "output_type": "stream",
     "text": [
      "Precisión del modelo: 0.6666666666666666\n",
      "Predicción de lluvia para el año 2025: Menos lluvia que la media\n"
     ]
    }
   ],
   "source": [
    "import pandas as pd\n",
    "import numpy as np\n",
    "from sklearn.model_selection import train_test_split\n",
    "from sklearn.svm import SVC\n",
    "from sklearn.metrics import accuracy_score\n",
    "\n",
    "# Cargar los datos\n",
    "dat_csv = pd.read_csv('Clima-rg-Año.csv', encoding=\"ISO-8859-1\", delimiter=\";\")\n",
    "\n",
    "\n",
    "# Reemplazar las comas por puntos en la columna 'Lluvia total'\n",
    "dat_csv['Lluvia total'] = dat_csv['Lluvia total'].replace({',': '.'}, regex=True)\n",
    "\n",
    "# Asegurarse de que 'Lluvia total' es de tipo numérico\n",
    "dat_csv['Lluvia total'] = pd.to_numeric(dat_csv['Lluvia total'], errors='coerce')\n",
    "\n",
    "\n",
    "# Calcular la media de lluvia total\n",
    "media_lluvia = dat_csv['Lluvia total'].mean()\n",
    "\n",
    "# Crear una nueva columna 'Lluvia mayor que la media' para la clasificación\n",
    "dat_csv['Lluvia mayor que la media'] = np.where(dat_csv['Lluvia total'] > media_lluvia, 1, 0)\n",
    "\n",
    "# Seleccionar las características (X) y la variable objetivo (y)\n",
    "X = dat_csv[['año']]  # Usamos 'Año' como característica\n",
    "y = dat_csv['Lluvia mayor que la media']  # La variable objetivo es si hay más lluvia que la media\n",
    "\n",
    "# Dividir los datos en entrenamiento y prueba\n",
    "X_train, X_test, y_train, y_test = train_test_split(X, y, test_size=0.2, random_state=42)\n",
    "\n",
    "# Crear y entrenar el modelo SVM\n",
    "model = SVC(kernel='linear', random_state=42)  # Usamos un kernel lineal\n",
    "model.fit(X_train, y_train)\n",
    "\n",
    "# Realizar predicciones\n",
    "y_pred = model.predict(X_test)\n",
    "\n",
    "# Calcular la precisión del modelo\n",
    "accuracy = accuracy_score(y_test, y_pred)\n",
    "print(f\"Precisión del modelo: {accuracy}\")\n",
    "\n",
    "# Ejemplo de predicción para el próximo año (suponiendo que sea 2025)\n",
    "nueva_fila = pd.DataFrame([[2025]], columns=['año'])  # Predecir para el año 2025\n",
    "prediccion = model.predict(nueva_fila)\n",
    "print(f\"Predicción de lluvia para el año 2025: {'Más lluvia que la media' if prediccion[0] == 1 else 'Menos lluvia que la media'}\")\n"
   ]
  }
 ],
 "metadata": {
  "kernelspec": {
   "display_name": "Python 3 (ipykernel)",
   "language": "python",
   "name": "python3"
  },
  "language_info": {
   "codemirror_mode": {
    "name": "ipython",
    "version": 3
   },
   "file_extension": ".py",
   "mimetype": "text/x-python",
   "name": "python",
   "nbconvert_exporter": "python",
   "pygments_lexer": "ipython3",
   "version": "3.11.7"
  }
 },
 "nbformat": 4,
 "nbformat_minor": 5
}
