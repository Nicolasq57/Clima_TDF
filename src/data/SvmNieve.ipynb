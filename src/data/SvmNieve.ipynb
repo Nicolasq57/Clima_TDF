{
 "cells": [
  {
   "cell_type": "code",
   "execution_count": 5,
   "id": "72186d2b-9ff8-4002-9eb5-385120c57556",
   "metadata": {},
   "outputs": [
    {
     "name": "stdout",
     "output_type": "stream",
     "text": [
      "Precisión del modelo: 1.0\n",
      "Predicción de nieve para el año 2025: Con nieve\n"
     ]
    }
   ],
   "source": [
    "from sklearn import svm\n",
    "from sklearn.model_selection import train_test_split\n",
    "from sklearn.metrics import accuracy_score\n",
    "import pandas as pd\n",
    "import numpy as np\n",
    "\n",
    "# Cargar los datos\n",
    "dat_csv = pd.read_csv('Clima-rg-Año.csv', encoding=\"ISO-8859-1\", delimiter=\";\")\n",
    "\n",
    "# Reemplazar guiones en 'Dias con Nieve' por 0\n",
    "dat_csv['Dias con Nieve'] = dat_csv['Dias con Nieve'].replace(['-', ' -'], 0)\n",
    "\n",
    "# Convertir la columna 'Dias con Nieve' en binaria (1 si hay nieve, 0 si no hay nieve)\n",
    "dat_csv['Día con Nieve'] = np.where(dat_csv['Dias con Nieve'] > 0, 1, 0)\n",
    "\n",
    "# Seleccionar las características (X) y la variable objetivo (y)\n",
    "X = dat_csv[['año']]  # Solo utilizamos el 'Año'\n",
    "y = dat_csv['Día con Nieve']  # 1 para días con nieve, 0 para días sin nieve\n",
    "\n",
    "# Dividir los datos en entrenamiento y prueba\n",
    "X_train, X_test, y_train, y_test = train_test_split(X, y, test_size=0.2, random_state=42)\n",
    "\n",
    "# Crear y entrenar el modelo SVM\n",
    "model = svm.SVC(kernel='linear', random_state=42)  # Usamos un kernel lineal por simplicidad\n",
    "model.fit(X_train, y_train)\n",
    "\n",
    "# Realizar predicciones\n",
    "y_pred = model.predict(X_test)\n",
    "\n",
    "# Calcular la precisión del modelo\n",
    "accuracy = accuracy_score(y_test, y_pred)\n",
    "print(f\"Precisión del modelo: {accuracy}\")\n",
    "\n",
    "# Ejemplo de predicción para nuevos datos\n",
    "nueva_fila = pd.DataFrame([[2025]], columns=['año'])  # Predecir para el año 2025\n",
    "prediccion = model.predict(nueva_fila)\n",
    "print(f\"Predicción de nieve para el año 2025: {'Con nieve' if prediccion[0] == 1 else 'Sin nieve'}\")\n",
    "\n"
   ]
  }
 ],
 "metadata": {
  "kernelspec": {
   "display_name": "Python 3 (ipykernel)",
   "language": "python",
   "name": "python3"
  },
  "language_info": {
   "codemirror_mode": {
    "name": "ipython",
    "version": 3
   },
   "file_extension": ".py",
   "mimetype": "text/x-python",
   "name": "python",
   "nbconvert_exporter": "python",
   "pygments_lexer": "ipython3",
   "version": "3.11.7"
  }
 },
 "nbformat": 4,
 "nbformat_minor": 5
}
